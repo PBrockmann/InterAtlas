{
 "cells": [
  {
   "cell_type": "code",
   "execution_count": 1,
   "metadata": {
    "collapsed": true
   },
   "outputs": [],
   "source": [
    "# http://vesg.ipsl.upmc.fr/thredds/fileServer/IPSLFS/fabric/lmdz/MultiSimu/CMIP5to6/ATLAS/index_SH_YEAR_AR4.0ada_1982_1991.html\n",
    "# http://vesg.ipsl.upmc.fr/thredds/fileServer/IPSLFS/fabric/lmdz/MultiSimu/CMIP5to6/ATLAS/index_GLOB_YEAR_NPv5.3_1982_1989.html\n",
    "\n",
    "# http://vesg.ipsl.upmc.fr/thredds/fileServer/IPSLFS/fabric/lmdz/MultiSimu/CMIP5to6/BIASNHDJF.html\n",
    "# http://vesg.ipsl.upmc.fr/thredds/fileServer/IPSLFS/fabric/climafCache/05f65/a942b/a837a/94f8b/8dc56/9e666/b0412.png"
   ]
  },
  {
   "cell_type": "code",
   "execution_count": 76,
   "metadata": {
    "collapsed": true
   },
   "outputs": [],
   "source": [
    "import os\n",
    "import pandas as pd\n",
    "import urllib2\n",
    "from urlparse import urlparse\n",
    "from bs4 import BeautifulSoup\n",
    "from wand.image import Image"
   ]
  },
  {
   "cell_type": "code",
   "execution_count": 127,
   "metadata": {
    "collapsed": true
   },
   "outputs": [],
   "source": [
    "from IPython.core.display import display, HTML\n",
    "pd.set_option('display.max_colwidth', 300)    # default"
   ]
  },
  {
   "cell_type": "code",
   "execution_count": 161,
   "metadata": {
    "collapsed": false
   },
   "outputs": [
    {
     "name": "stdout",
     "output_type": "stream",
     "text": [
      "356\n"
     ]
    }
   ],
   "source": [
    "df = pd.DataFrame(columns={'url', 'metadata', 'image'})\n",
    "\n",
    "urlList = []\n",
    "urlList.append('http://vesg.ipsl.upmc.fr/thredds/fileServer/IPSLFS/fabric/lmdz/MultiSimu/CMIP5to6/ATLAS/' + \\\n",
    "                   'index_SH_YEAR_AR4.0ada_1982_1991.html')\n",
    "urlList.append('http://vesg.ipsl.upmc.fr/thredds/fileServer/IPSLFS/fabric/lmdz/MultiSimu/CMIP5to6/ATLAS/' + \\\n",
    "                   'index_GLOB_YEAR_NPv5.3_1982_1989.html')\n",
    "\n",
    "\n",
    "for url in urlList:\n",
    "    \n",
    "    parsed_uri = urlparse(url)\n",
    "    domain = '{uri.scheme}://{uri.netloc}'.format(uri=parsed_uri)\n",
    "\n",
    "    html = urllib2.urlopen(url).read()\n",
    "\n",
    "    soup=BeautifulSoup(html, \"lxml\")\n",
    "\n",
    "    allImg = soup.findAll('img')\n",
    "\n",
    "    for i,img in enumerate(allImg):\n",
    "        filename, file_extension = os.path.splitext(img['src'])\n",
    "        if (file_extension == '.png'):\n",
    "            imgURL = domain + img['src']\n",
    "            response = urllib2.urlopen(imgURL)\n",
    "            try:\n",
    "                with Image(file=response) as img:\n",
    "                    metadata = img.metadata['CRS_def']\n",
    "                    imgHTML = '<a href=\"' + imgURL + '\" target=\"_blank\">' + \\\n",
    "                                '<img width=\"300px\" src=\"' + imgURL + '\"/>' + \\\n",
    "                                '</a>'\n",
    "                    df = df.append({'url': imgURL, 'metadata': metadata, 'image': imgHTML}, ignore_index=True)\n",
    "            except:\n",
    "                response.close()\n",
    " \n",
    "print len(df)"
   ]
  },
  {
   "cell_type": "code",
   "execution_count": 168,
   "metadata": {
    "collapsed": false
   },
   "outputs": [
    {
     "data": {
      "text/html": [
       "<table border=\"1\" class=\"dataframe\">\n",
       "  <thead>\n",
       "    <tr style=\"text-align: right;\">\n",
       "      <th>image</th>\n",
       "    </tr>\n",
       "  </thead>\n",
       "  <tbody>\n",
       "    <tr>\n",
       "      <td><a href=\"http://vesg.ipsl.upmc.fr/thredds/fileServer/IPSLFS/fabric/climafCache/1adc9/23fd2/6d9a9/91c2c/a2255/0e194/5eefc.png\" target=\"_blank\"><img width=\"300px\" src=\"http://vesg.ipsl.upmc.fr/thredds/fileServer/IPSLFS/fabric/climafCache/1adc9/23fd2/6d9a9/91c2c/a2255/0e194/5eefc.png\"/></a></td>\n",
       "    </tr>\n",
       "    <tr>\n",
       "      <td><a href=\"http://vesg.ipsl.upmc.fr/thredds/fileServer/IPSLFS/fabric/climafCache/1adc9/23fd2/6d9a9/91c2c/a2255/0e194/5eefc.png\" target=\"_blank\"><img width=\"300px\" src=\"http://vesg.ipsl.upmc.fr/thredds/fileServer/IPSLFS/fabric/climafCache/1adc9/23fd2/6d9a9/91c2c/a2255/0e194/5eefc.png\"/></a></td>\n",
       "    </tr>\n",
       "    <tr>\n",
       "      <td><a href=\"http://vesg.ipsl.upmc.fr/thredds/fileServer/IPSLFS/fabric/climafCache/4c45f/934c9/88057/d88ed/07dde/4a2b2/d8d6c.png\" target=\"_blank\"><img width=\"300px\" src=\"http://vesg.ipsl.upmc.fr/thredds/fileServer/IPSLFS/fabric/climafCache/4c45f/934c9/88057/d88ed/07dde/4a2b2/d8d6c.png\"/></a></td>\n",
       "    </tr>\n",
       "    <tr>\n",
       "      <td><a href=\"http://vesg.ipsl.upmc.fr/thredds/fileServer/IPSLFS/fabric/climafCache/37cb0/a37d4/1efa2/1eac9/cf4bd/8a7f3/3ae97.png\" target=\"_blank\"><img width=\"300px\" src=\"http://vesg.ipsl.upmc.fr/thredds/fileServer/IPSLFS/fabric/climafCache/37cb0/a37d4/1efa2/1eac9/cf4bd/8a7f3/3ae97.png\"/></a></td>\n",
       "    </tr>\n",
       "    <tr>\n",
       "      <td><a href=\"http://vesg.ipsl.upmc.fr/thredds/fileServer/IPSLFS/fabric/climafCache/1adc9/23fd2/6d9a9/91c2c/a2255/0e194/5eefc.png\" target=\"_blank\"><img width=\"300px\" src=\"http://vesg.ipsl.upmc.fr/thredds/fileServer/IPSLFS/fabric/climafCache/1adc9/23fd2/6d9a9/91c2c/a2255/0e194/5eefc.png\"/></a></td>\n",
       "    </tr>\n",
       "    <tr>\n",
       "      <td><a href=\"http://vesg.ipsl.upmc.fr/thredds/fileServer/IPSLFS/fabric/climafCache/8d139/dd00f/97d66/db03b/a40b8/41da8/33569.png\" target=\"_blank\"><img width=\"300px\" src=\"http://vesg.ipsl.upmc.fr/thredds/fileServer/IPSLFS/fabric/climafCache/8d139/dd00f/97d66/db03b/a40b8/41da8/33569.png\"/></a></td>\n",
       "    </tr>\n",
       "  </tbody>\n",
       "</table>"
      ],
      "text/plain": [
       "<IPython.core.display.HTML object>"
      ]
     },
     "metadata": {},
     "output_type": "display_data"
    }
   ],
   "source": [
    "df_select = df[df['metadata'].str.contains('albt|tas')]\n",
    "\n",
    "df_select = df[df['metadata'].str.contains('albt') & \\\n",
    "               df['metadata'].str.contains('curves')]\n",
    "\n",
    "df_select = df[df['metadata'].str.contains('albt') & \\\n",
    "               df['metadata'].str.contains('SH')]\n",
    "\n",
    "display(HTML(df_select[['image']].to_html(escape=False, index=False)))"
   ]
  },
  {
   "cell_type": "code",
   "execution_count": 89,
   "metadata": {
    "collapsed": false
   },
   "outputs": [
    {
     "name": "stdout",
     "output_type": "stream",
     "text": [
      "('format =', 'PNG')\n",
      "('size =', (977L, 597L))\n",
      "['CliMAF', 'CRS_def', 'date:create', 'date:modify', 'png:IHDR.bit-depth-orig', 'png:IHDR.bit_depth', 'png:IHDR.color-type-orig', 'png:IHDR.color_type', 'png:IHDR.interlace_method', 'png:IHDR.width,height', 'png:oFFs', 'png:pHYs', 'png:sRGB', 'png:text', 'png:vpAg']\n",
      "CLImate Model Assessment Framework version 0.12 (http://climaf.rtfd.org)\n",
      "curves(cens(['NPv5.3_1982_1989', 'OBS'],ccdo(multiply(regrid(time_average(ds('SE|NPv5.3|cltcalipso|fx|global|seasonnal|1982_1989|/prodigfs/ipslfs/dods/fabric/lmdz/SE/ORIG')),ds('file|VLR|hurs|fx|global|no_model|/data/ssenesi/stable/VLR.nc')),divide(regrid(time_average(ds('OBS.N/A.cltcalipso.fx.global./prodigfs/ipslfs/dods/fabric/lmdz/SE/CMOR/OBS')),ds('file|VLR|hurs|fx|global|no_model|/data/ssenesi/stable/VLR.nc')),regrid(time_average(ds('OBS.N/A.cltcalipso.fx.global./prodigfs/ipslfs/dods/fabric/lmdz/SE/CMOR/OBS')),ds('file|VLR|hurs|fx|global|no_model|/data/ssenesi/stable/VLR.nc')))),operator='zonmean'),ccdo(regrid(time_average(ds('OBS.N/A.cltcalipso.fx.global./prodigfs/ipslfs/dods/fabric/lmdz/SE/CMOR/OBS')),ds('file|VLR|hurs|fx|global|no_model|/data/ssenesi/stable/VLR.nc')),operator='zonmean')),lgcols=3,options='tmYROn=True|tmYRBorderOn=True|tmYLOn=False|tmYUseRight=True|vpXF=0|vpWidthF=0.66|vpHeightF=0.33|tmYRLabelsOn=True|tmXBLabelFontHeightF=0.018|tmYLLabelFontHeightF=0.016|lgLabelFontHeightF=0.018|pmLegendOrthogonalPosF=-0.32|pmLegendParallelPosF=1.0|tmXMajorGrid=True|tmYMajorGrid=True|tmXMajorGridLineDashPattern=2|tmYMajorGridLineDashPattern=2|xyLineThicknessF=8|gsnLeftString=cltcalipso|gsnCenterString=NPv5.3_1982_1989 vs OBS|gsnRightString=YEAR|gsnStringFontHeightF=0.018',title='')\n"
     ]
    }
   ],
   "source": [
    "from wand.image import Image\n",
    "\n",
    "response = urllib2.urlopen(df['url'][124])\n",
    "\n",
    "try:\n",
    "    with Image(file=response) as img:\n",
    "        print('format =', img.format)\n",
    "        print('size =', img.size)\n",
    "        print img.metadata.keys()\n",
    "        print img.metadata['CliMAF']\n",
    "        print img.metadata['CRS_def']\n",
    "        metadata = img.metadata['CRS_def']\n",
    "finally:\n",
    "    response.close()"
   ]
  },
  {
   "cell_type": "code",
   "execution_count": 97,
   "metadata": {
    "collapsed": false
   },
   "outputs": [
    {
     "data": {
      "text/plain": [
       "'http://vesg.ipsl.upmc.fr/thredds/fileServer/IPSLFS/fabric/climafCache/4e444/30981/e118d/84c07/6dcdf/ec02c/f4462.png'"
      ]
     },
     "execution_count": 97,
     "metadata": {},
     "output_type": "execute_result"
    }
   ],
   "source": [
    "df.ix[0]['url']"
   ]
  },
  {
   "cell_type": "code",
   "execution_count": null,
   "metadata": {
    "collapsed": true
   },
   "outputs": [],
   "source": []
  }
 ],
 "metadata": {
  "kernelspec": {
   "display_name": "Python 2",
   "language": "python",
   "name": "python2"
  },
  "language_info": {
   "codemirror_mode": {
    "name": "ipython",
    "version": 2
   },
   "file_extension": ".py",
   "mimetype": "text/x-python",
   "name": "python",
   "nbconvert_exporter": "python",
   "pygments_lexer": "ipython2",
   "version": "2.7.11"
  }
 },
 "nbformat": 4,
 "nbformat_minor": 0
}
