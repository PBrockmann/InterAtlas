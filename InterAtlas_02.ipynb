{
 "cells": [
  {
   "cell_type": "markdown",
   "metadata": {},
   "source": [
    "Patrick BROCKMANN - LSCE (Climate and Environment Sciences Laboratory)\n",
    "\n",
    "<img align=\"left\" width=\"40%\" src=\"http://www.lsce.ipsl.fr/Css/img/banniere_LSCE_75.png\"><br><br>\n",
    "<hr>"
   ]
  },
  {
   "cell_type": "markdown",
   "metadata": {},
   "source": [
    "Last update: 2016/06/17"
   ]
  },
  {
   "cell_type": "markdown",
   "metadata": {},
   "source": [
    "## Investigate how to select images from their metadata (CRF_def)"
   ]
  },
  {
   "cell_type": "code",
   "execution_count": 1,
   "metadata": {
    "collapsed": true
   },
   "outputs": [],
   "source": [
    "# http://vesg.ipsl.upmc.fr/thredds/fileServer/IPSLFS/fabric/lmdz/MultiSimu/CMIP5to6/ATLAS/index_SH_YEAR_AR4.0ada_1982_1991.html\n",
    "# http://vesg.ipsl.upmc.fr/thredds/fileServer/IPSLFS/fabric/lmdz/MultiSimu/CMIP5to6/ATLAS/index_GLOB_YEAR_NPv5.3_1982_1989.html"
   ]
  },
  {
   "cell_type": "code",
   "execution_count": 2,
   "metadata": {
    "collapsed": true
   },
   "outputs": [],
   "source": [
    "import os\n",
    "import pandas as pd\n",
    "import urllib2\n",
    "from urlparse import urlparse\n",
    "from bs4 import BeautifulSoup\n",
    "from wand.image import Image"
   ]
  },
  {
   "cell_type": "code",
   "execution_count": 116,
   "metadata": {
    "collapsed": true
   },
   "outputs": [],
   "source": [
    "from IPython.core.display import display, HTML\n",
    "#pd.set_option('display.max_colwidth', 300)    # default"
   ]
  },
  {
   "cell_type": "markdown",
   "metadata": {},
   "source": [
    "### Harvest all png images from a set og html pages (atlas) "
   ]
  },
  {
   "cell_type": "markdown",
   "metadata": {},
   "source": [
    "Can be long since you have to download and open as many images there are in the different html pages "
   ]
  },
  {
   "cell_type": "code",
   "execution_count": 87,
   "metadata": {
    "collapsed": false
   },
   "outputs": [
    {
     "name": "stdout",
     "output_type": "stream",
     "text": [
      "Harvesting http://vesg.ipsl.upmc.fr/thredds/fileServer/IPSLFS/fabric/lmdz/MultiSimu/CMIP5to6/ATLAS/index_SH_YEAR_AR4.0ada_1982_1991.html\n",
      "    178 png images found\n",
      "Harvesting http://vesg.ipsl.upmc.fr/thredds/fileServer/IPSLFS/fabric/lmdz/MultiSimu/CMIP5to6/ATLAS/index_GLOB_YEAR_NPv5.3_1982_1989.html\n",
      "    178 png images found\n",
      "\n",
      "Total:  356\n"
     ]
    }
   ],
   "source": [
    "df = pd.DataFrame(columns={'url', 'metadata', 'image'})\n",
    "\n",
    "urlList = []\n",
    "urlList.append('http://vesg.ipsl.upmc.fr/thredds/fileServer/IPSLFS/fabric/lmdz/MultiSimu/CMIP5to6/ATLAS/' + \\\n",
    "                   'index_SH_YEAR_AR4.0ada_1982_1991.html')\n",
    "urlList.append('http://vesg.ipsl.upmc.fr/thredds/fileServer/IPSLFS/fabric/lmdz/MultiSimu/CMIP5to6/ATLAS/' + \\\n",
    "                   'index_GLOB_YEAR_NPv5.3_1982_1989.html')\n",
    "\n",
    "\n",
    "for url in urlList:\n",
    "    \n",
    "    print 'Harvesting ' + url\n",
    "    \n",
    "    parsed_uri = urlparse(url)\n",
    "    domain = '{uri.scheme}://{uri.netloc}'.format(uri=parsed_uri)\n",
    "\n",
    "    html = urllib2.urlopen(url).read()\n",
    "\n",
    "    soup=BeautifulSoup(html, \"lxml\")\n",
    "\n",
    "    allImg = soup.findAll('img')\n",
    "\n",
    "    n = 0\n",
    "    for img in allImg:\n",
    "        filename, file_extension = os.path.splitext(img['src'])\n",
    "        if (file_extension == '.png'):\n",
    "            imgURL = domain + img['src']\n",
    "            response = urllib2.urlopen(imgURL)\n",
    "            try:\n",
    "                with Image(file=response) as img:\n",
    "                    metadata = img.metadata['CRS_def']\n",
    "                    imgHTML = '<a href=\"' + imgURL + '\" target=\"_blank\">' + \\\n",
    "                                '<img class=\"myImage\" src=\"' + imgURL + '\"/>' + \\\n",
    "                                '</a>'\n",
    "                    df = df.append({'url': imgURL, 'metadata': metadata, 'image': imgHTML}, ignore_index=True)\n",
    "                    n = n+1\n",
    "            except:\n",
    "                response.close()\n",
    "                \n",
    "    print '    ' + str(n) + ' png images found'\n",
    " \n",
    "print \n",
    "print 'Total: ', len(df)"
   ]
  },
  {
   "cell_type": "markdown",
   "metadata": {},
   "source": [
    "### Remove duplicate urls"
   ]
  },
  {
   "cell_type": "code",
   "execution_count": 88,
   "metadata": {
    "collapsed": false
   },
   "outputs": [
    {
     "name": "stdout",
     "output_type": "stream",
     "text": [
      "252\n"
     ]
    }
   ],
   "source": [
    "df = df.drop_duplicates()\n",
    "print len(df)"
   ]
  },
  {
   "cell_type": "code",
   "execution_count": 100,
   "metadata": {
    "collapsed": false
   },
   "outputs": [
    {
     "data": {
      "text/html": [
       "\n",
       "<style>\n",
       ".myImage {\n",
       "  width: 200px;\n",
       "  float: left;\n",
       "  border:1px solid black;\n",
       "}\n",
       "</style>\n"
      ],
      "text/plain": [
       "<IPython.core.display.HTML object>"
      ]
     },
     "execution_count": 100,
     "metadata": {},
     "output_type": "execute_result"
    }
   ],
   "source": [
    "from IPython.display import HTML\n",
    "HTML(\"\"\"\n",
    "<style>\n",
    ".myImage {\n",
    "  width: 200px;\n",
    "  float: left;\n",
    "  border:1px solid black;\n",
    "}\n",
    "</style>\n",
    "\"\"\")"
   ]
  },
  {
   "cell_type": "markdown",
   "metadata": {},
   "source": [
    "### Examples of selection"
   ]
  },
  {
   "cell_type": "code",
   "execution_count": 112,
   "metadata": {
    "collapsed": true
   },
   "outputs": [],
   "source": [
    "# OR example\n",
    "df_select = df[df['metadata'].str.contains('albt|tas')]\n",
    "\n",
    "# AND examples\n",
    "df_select = df[df['metadata'].str.contains('albt') & \\\n",
    "               df['metadata'].str.contains('curves')]\n",
    "\n",
    "df_select = df[df['metadata'].str.contains('albt') & \\\n",
    "               df['metadata'].str.contains('SH')]\n",
    "\n",
    "df_select = df[df['metadata'].str.contains('albt|tas')]"
   ]
  },
  {
   "cell_type": "markdown",
   "metadata": {},
   "source": [
    "### Display images in the dataframe"
   ]
  },
  {
   "cell_type": "code",
   "execution_count": 117,
   "metadata": {
    "collapsed": false
   },
   "outputs": [
    {
     "data": {
      "text/html": [
       "<table border=\"1\" class=\"dataframe\">\n",
       "  <thead>\n",
       "    <tr style=\"text-align: right;\">\n",
       "      <th>image</th>\n",
       "    </tr>\n",
       "  </thead>\n",
       "  <tbody>\n",
       "    <tr>\n",
       "      <td><a href=\"http://vesg.ipsl.upmc.fr/thredds/fileServer/IPSLFS/fabric/climafCache/d426d/5de7a/a9589/927cf/db7a6/6809d/c38cc.png\" target=\"_blank\"><img class=\"myImage\" src=\"http://vesg.ipsl.upmc.fr/thredds/fileServer/IPSLFS/fabric/climafCache/d426d/5de7a/a9589/927cf/db7a6/6809d/c38cc.png\"/></a></td>\n",
       "    </tr>\n",
       "    <tr>\n",
       "      <td><a href=\"http://vesg.ipsl.upmc.fr/thredds/fileServer/IPSLFS/fabric/climafCache/a82ae/ddf7e/eb9bd/e1ee9/c3965/b3a04/898f0.png\" target=\"_blank\"><img class=\"myImage\" src=\"http://vesg.ipsl.upmc.fr/thredds/fileServer/IPSLFS/fabric/climafCache/a82ae/ddf7e/eb9bd/e1ee9/c3965/b3a04/898f0.png\"/></a></td>\n",
       "    </tr>\n",
       "    <tr>\n",
       "      <td><a href=\"http://vesg.ipsl.upmc.fr/thredds/fileServer/IPSLFS/fabric/climafCache/891ae/608b4/7bc42/b6b90/00021/5ed8b/8a4f9.png\" target=\"_blank\"><img class=\"myImage\" src=\"http://vesg.ipsl.upmc.fr/thredds/fileServer/IPSLFS/fabric/climafCache/891ae/608b4/7bc42/b6b90/00021/5ed8b/8a4f9.png\"/></a></td>\n",
       "    </tr>\n",
       "    <tr>\n",
       "      <td><a href=\"http://vesg.ipsl.upmc.fr/thredds/fileServer/IPSLFS/fabric/climafCache/86513/5dc74/95f49/fdf27/fa956/16cf9/5fa4b.png\" target=\"_blank\"><img class=\"myImage\" src=\"http://vesg.ipsl.upmc.fr/thredds/fileServer/IPSLFS/fabric/climafCache/86513/5dc74/95f49/fdf27/fa956/16cf9/5fa4b.png\"/></a></td>\n",
       "    </tr>\n",
       "    <tr>\n",
       "      <td><a href=\"http://vesg.ipsl.upmc.fr/thredds/fileServer/IPSLFS/fabric/climafCache/e11e3/5fc99/d8ec0/dadfc/86d99/d4d7b/18014.png\" target=\"_blank\"><img class=\"myImage\" src=\"http://vesg.ipsl.upmc.fr/thredds/fileServer/IPSLFS/fabric/climafCache/e11e3/5fc99/d8ec0/dadfc/86d99/d4d7b/18014.png\"/></a></td>\n",
       "    </tr>\n",
       "    <tr>\n",
       "      <td><a href=\"http://vesg.ipsl.upmc.fr/thredds/fileServer/IPSLFS/fabric/climafCache/1adc9/23fd2/6d9a9/91c2c/a2255/0e194/5eefc.png\" target=\"_blank\"><img class=\"myImage\" src=\"http://vesg.ipsl.upmc.fr/thredds/fileServer/IPSLFS/fabric/climafCache/1adc9/23fd2/6d9a9/91c2c/a2255/0e194/5eefc.png\"/></a></td>\n",
       "    </tr>\n",
       "    <tr>\n",
       "      <td><a href=\"http://vesg.ipsl.upmc.fr/thredds/fileServer/IPSLFS/fabric/climafCache/4c45f/934c9/88057/d88ed/07dde/4a2b2/d8d6c.png\" target=\"_blank\"><img class=\"myImage\" src=\"http://vesg.ipsl.upmc.fr/thredds/fileServer/IPSLFS/fabric/climafCache/4c45f/934c9/88057/d88ed/07dde/4a2b2/d8d6c.png\"/></a></td>\n",
       "    </tr>\n",
       "    <tr>\n",
       "      <td><a href=\"http://vesg.ipsl.upmc.fr/thredds/fileServer/IPSLFS/fabric/climafCache/37cb0/a37d4/1efa2/1eac9/cf4bd/8a7f3/3ae97.png\" target=\"_blank\"><img class=\"myImage\" src=\"http://vesg.ipsl.upmc.fr/thredds/fileServer/IPSLFS/fabric/climafCache/37cb0/a37d4/1efa2/1eac9/cf4bd/8a7f3/3ae97.png\"/></a></td>\n",
       "    </tr>\n",
       "    <tr>\n",
       "      <td><a href=\"http://vesg.ipsl.upmc.fr/thredds/fileServer/IPSLFS/fabric/climafCache/7b8ee/b5aa2/e2b43/1253f/ce83a/a067c/fa995.png\" target=\"_blank\"><img class=\"myImage\" src=\"http://vesg.ipsl.upmc.fr/thredds/fileServer/IPSLFS/fabric/climafCache/7b8ee/b5aa2/e2b43/1253f/ce83a/a067c/fa995.png\"/></a></td>\n",
       "    </tr>\n",
       "    <tr>\n",
       "      <td><a href=\"http://vesg.ipsl.upmc.fr/thredds/fileServer/IPSLFS/fabric/climafCache/8d139/dd00f/97d66/db03b/a40b8/41da8/33569.png\" target=\"_blank\"><img class=\"myImage\" src=\"http://vesg.ipsl.upmc.fr/thredds/fileServer/IPSLFS/fabric/climafCache/8d139/dd00f/97d66/db03b/a40b8/41da8/33569.png\"/></a></td>\n",
       "    </tr>\n",
       "    <tr>\n",
       "      <td><a href=\"http://vesg.ipsl.upmc.fr/thredds/fileServer/IPSLFS/fabric/climafCache/d6e9b/6647d/2a99c/4ee20/fd0ad/f0edc/8cc1a.png\" target=\"_blank\"><img class=\"myImage\" src=\"http://vesg.ipsl.upmc.fr/thredds/fileServer/IPSLFS/fabric/climafCache/d6e9b/6647d/2a99c/4ee20/fd0ad/f0edc/8cc1a.png\"/></a></td>\n",
       "    </tr>\n",
       "    <tr>\n",
       "      <td><a href=\"http://vesg.ipsl.upmc.fr/thredds/fileServer/IPSLFS/fabric/climafCache/30e22/f4dbc/70370/d19ef/5f6b6/a7796/66b1f.png\" target=\"_blank\"><img class=\"myImage\" src=\"http://vesg.ipsl.upmc.fr/thredds/fileServer/IPSLFS/fabric/climafCache/30e22/f4dbc/70370/d19ef/5f6b6/a7796/66b1f.png\"/></a></td>\n",
       "    </tr>\n",
       "    <tr>\n",
       "      <td><a href=\"http://vesg.ipsl.upmc.fr/thredds/fileServer/IPSLFS/fabric/climafCache/ffe09/8dbd3/6b17c/ef1cd/0d7b2/d3472/b57d2.png\" target=\"_blank\"><img class=\"myImage\" src=\"http://vesg.ipsl.upmc.fr/thredds/fileServer/IPSLFS/fabric/climafCache/ffe09/8dbd3/6b17c/ef1cd/0d7b2/d3472/b57d2.png\"/></a></td>\n",
       "    </tr>\n",
       "    <tr>\n",
       "      <td><a href=\"http://vesg.ipsl.upmc.fr/thredds/fileServer/IPSLFS/fabric/climafCache/2f863/50347/1399a/07433/fae15/e63fb/f7e97.png\" target=\"_blank\"><img class=\"myImage\" src=\"http://vesg.ipsl.upmc.fr/thredds/fileServer/IPSLFS/fabric/climafCache/2f863/50347/1399a/07433/fae15/e63fb/f7e97.png\"/></a></td>\n",
       "    </tr>\n",
       "    <tr>\n",
       "      <td><a href=\"http://vesg.ipsl.upmc.fr/thredds/fileServer/IPSLFS/fabric/climafCache/d125e/4d2dd/811e9/01036/be77c/729f9/06faf.png\" target=\"_blank\"><img class=\"myImage\" src=\"http://vesg.ipsl.upmc.fr/thredds/fileServer/IPSLFS/fabric/climafCache/d125e/4d2dd/811e9/01036/be77c/729f9/06faf.png\"/></a></td>\n",
       "    </tr>\n",
       "    <tr>\n",
       "      <td><a href=\"http://vesg.ipsl.upmc.fr/thredds/fileServer/IPSLFS/fabric/climafCache/aba32/38716/013df/66316/ed6c3/4d7e7/0f765.png\" target=\"_blank\"><img class=\"myImage\" src=\"http://vesg.ipsl.upmc.fr/thredds/fileServer/IPSLFS/fabric/climafCache/aba32/38716/013df/66316/ed6c3/4d7e7/0f765.png\"/></a></td>\n",
       "    </tr>\n",
       "    <tr>\n",
       "      <td><a href=\"http://vesg.ipsl.upmc.fr/thredds/fileServer/IPSLFS/fabric/climafCache/17b6e/10c9b/550cb/ec26c/6a086/ada74/50bf7.png\" target=\"_blank\"><img class=\"myImage\" src=\"http://vesg.ipsl.upmc.fr/thredds/fileServer/IPSLFS/fabric/climafCache/17b6e/10c9b/550cb/ec26c/6a086/ada74/50bf7.png\"/></a></td>\n",
       "    </tr>\n",
       "    <tr>\n",
       "      <td><a href=\"http://vesg.ipsl.upmc.fr/thredds/fileServer/IPSLFS/fabric/climafCache/f5b28/a06d3/adab7/5b6fb/6c5dc/56704/28252.png\" target=\"_blank\"><img class=\"myImage\" src=\"http://vesg.ipsl.upmc.fr/thredds/fileServer/IPSLFS/fabric/climafCache/f5b28/a06d3/adab7/5b6fb/6c5dc/56704/28252.png\"/></a></td>\n",
       "    </tr>\n",
       "    <tr>\n",
       "      <td><a href=\"http://vesg.ipsl.upmc.fr/thredds/fileServer/IPSLFS/fabric/climafCache/d7e67/a907e/17c5e/1eed1/06345/0e7cc/82abb.png\" target=\"_blank\"><img class=\"myImage\" src=\"http://vesg.ipsl.upmc.fr/thredds/fileServer/IPSLFS/fabric/climafCache/d7e67/a907e/17c5e/1eed1/06345/0e7cc/82abb.png\"/></a></td>\n",
       "    </tr>\n",
       "    <tr>\n",
       "      <td><a href=\"http://vesg.ipsl.upmc.fr/thredds/fileServer/IPSLFS/fabric/climafCache/d68de/6111a/6affb/3b519/d3320/973dd/f59f7.png\" target=\"_blank\"><img class=\"myImage\" src=\"http://vesg.ipsl.upmc.fr/thredds/fileServer/IPSLFS/fabric/climafCache/d68de/6111a/6affb/3b519/d3320/973dd/f59f7.png\"/></a></td>\n",
       "    </tr>\n",
       "  </tbody>\n",
       "</table>"
      ],
      "text/plain": [
       "<IPython.core.display.HTML object>"
      ]
     },
     "metadata": {},
     "output_type": "display_data"
    }
   ],
   "source": [
    "display(HTML(df_select[['image']].to_html(escape=False, index=False)))"
   ]
  },
  {
   "cell_type": "markdown",
   "metadata": {},
   "source": [
    "### Display images as block"
   ]
  },
  {
   "cell_type": "code",
   "execution_count": 118,
   "metadata": {
    "collapsed": false
   },
   "outputs": [
    {
     "data": {
      "text/html": [
       "<div style=\"display: block\"><a href=\"http://vesg.ipsl.upmc.fr/thredds/fileServer/IPSLFS/fabric/climafCache/d426d/5de7a/a9589/927cf/db7a6/6809d/c38cc.png\" target=\"_blank\"><img class=\"myImage\" src=\"http://vesg.ipsl.upmc.fr/thredds/fileServer/IPSLFS/fabric/climafCache/d426d/5de7a/a9589/927cf/db7a6/6809d/c38cc.png\"/></a><a href=\"http://vesg.ipsl.upmc.fr/thredds/fileServer/IPSLFS/fabric/climafCache/a82ae/ddf7e/eb9bd/e1ee9/c3965/b3a04/898f0.png\" target=\"_blank\"><img class=\"myImage\" src=\"http://vesg.ipsl.upmc.fr/thredds/fileServer/IPSLFS/fabric/climafCache/a82ae/ddf7e/eb9bd/e1ee9/c3965/b3a04/898f0.png\"/></a><a href=\"http://vesg.ipsl.upmc.fr/thredds/fileServer/IPSLFS/fabric/climafCache/891ae/608b4/7bc42/b6b90/00021/5ed8b/8a4f9.png\" target=\"_blank\"><img class=\"myImage\" src=\"http://vesg.ipsl.upmc.fr/thredds/fileServer/IPSLFS/fabric/climafCache/891ae/608b4/7bc42/b6b90/00021/5ed8b/8a4f9.png\"/></a><a href=\"http://vesg.ipsl.upmc.fr/thredds/fileServer/IPSLFS/fabric/climafCache/86513/5dc74/95f49/fdf27/fa956/16cf9/5fa4b.png\" target=\"_blank\"><img class=\"myImage\" src=\"http://vesg.ipsl.upmc.fr/thredds/fileServer/IPSLFS/fabric/climafCache/86513/5dc74/95f49/fdf27/fa956/16cf9/5fa4b.png\"/></a><a href=\"http://vesg.ipsl.upmc.fr/thredds/fileServer/IPSLFS/fabric/climafCache/e11e3/5fc99/d8ec0/dadfc/86d99/d4d7b/18014.png\" target=\"_blank\"><img class=\"myImage\" src=\"http://vesg.ipsl.upmc.fr/thredds/fileServer/IPSLFS/fabric/climafCache/e11e3/5fc99/d8ec0/dadfc/86d99/d4d7b/18014.png\"/></a><a href=\"http://vesg.ipsl.upmc.fr/thredds/fileServer/IPSLFS/fabric/climafCache/1adc9/23fd2/6d9a9/91c2c/a2255/0e194/5eefc.png\" target=\"_blank\"><img class=\"myImage\" src=\"http://vesg.ipsl.upmc.fr/thredds/fileServer/IPSLFS/fabric/climafCache/1adc9/23fd2/6d9a9/91c2c/a2255/0e194/5eefc.png\"/></a><a href=\"http://vesg.ipsl.upmc.fr/thredds/fileServer/IPSLFS/fabric/climafCache/4c45f/934c9/88057/d88ed/07dde/4a2b2/d8d6c.png\" target=\"_blank\"><img class=\"myImage\" src=\"http://vesg.ipsl.upmc.fr/thredds/fileServer/IPSLFS/fabric/climafCache/4c45f/934c9/88057/d88ed/07dde/4a2b2/d8d6c.png\"/></a><a href=\"http://vesg.ipsl.upmc.fr/thredds/fileServer/IPSLFS/fabric/climafCache/37cb0/a37d4/1efa2/1eac9/cf4bd/8a7f3/3ae97.png\" target=\"_blank\"><img class=\"myImage\" src=\"http://vesg.ipsl.upmc.fr/thredds/fileServer/IPSLFS/fabric/climafCache/37cb0/a37d4/1efa2/1eac9/cf4bd/8a7f3/3ae97.png\"/></a><a href=\"http://vesg.ipsl.upmc.fr/thredds/fileServer/IPSLFS/fabric/climafCache/7b8ee/b5aa2/e2b43/1253f/ce83a/a067c/fa995.png\" target=\"_blank\"><img class=\"myImage\" src=\"http://vesg.ipsl.upmc.fr/thredds/fileServer/IPSLFS/fabric/climafCache/7b8ee/b5aa2/e2b43/1253f/ce83a/a067c/fa995.png\"/></a><a href=\"http://vesg.ipsl.upmc.fr/thredds/fileServer/IPSLFS/fabric/climafCache/8d139/dd00f/97d66/db03b/a40b8/41da8/33569.png\" target=\"_blank\"><img class=\"myImage\" src=\"http://vesg.ipsl.upmc.fr/thredds/fileServer/IPSLFS/fabric/climafCache/8d139/dd00f/97d66/db03b/a40b8/41da8/33569.png\"/></a><a href=\"http://vesg.ipsl.upmc.fr/thredds/fileServer/IPSLFS/fabric/climafCache/d6e9b/6647d/2a99c/4ee20/fd0ad/f0edc/8cc1a.png\" target=\"_blank\"><img class=\"myImage\" src=\"http://vesg.ipsl.upmc.fr/thredds/fileServer/IPSLFS/fabric/climafCache/d6e9b/6647d/2a99c/4ee20/fd0ad/f0edc/8cc1a.png\"/></a><a href=\"http://vesg.ipsl.upmc.fr/thredds/fileServer/IPSLFS/fabric/climafCache/30e22/f4dbc/70370/d19ef/5f6b6/a7796/66b1f.png\" target=\"_blank\"><img class=\"myImage\" src=\"http://vesg.ipsl.upmc.fr/thredds/fileServer/IPSLFS/fabric/climafCache/30e22/f4dbc/70370/d19ef/5f6b6/a7796/66b1f.png\"/></a><a href=\"http://vesg.ipsl.upmc.fr/thredds/fileServer/IPSLFS/fabric/climafCache/ffe09/8dbd3/6b17c/ef1cd/0d7b2/d3472/b57d2.png\" target=\"_blank\"><img class=\"myImage\" src=\"http://vesg.ipsl.upmc.fr/thredds/fileServer/IPSLFS/fabric/climafCache/ffe09/8dbd3/6b17c/ef1cd/0d7b2/d3472/b57d2.png\"/></a><a href=\"http://vesg.ipsl.upmc.fr/thredds/fileServer/IPSLFS/fabric/climafCache/2f863/50347/1399a/07433/fae15/e63fb/f7e97.png\" target=\"_blank\"><img class=\"myImage\" src=\"http://vesg.ipsl.upmc.fr/thredds/fileServer/IPSLFS/fabric/climafCache/2f863/50347/1399a/07433/fae15/e63fb/f7e97.png\"/></a><a href=\"http://vesg.ipsl.upmc.fr/thredds/fileServer/IPSLFS/fabric/climafCache/d125e/4d2dd/811e9/01036/be77c/729f9/06faf.png\" target=\"_blank\"><img class=\"myImage\" src=\"http://vesg.ipsl.upmc.fr/thredds/fileServer/IPSLFS/fabric/climafCache/d125e/4d2dd/811e9/01036/be77c/729f9/06faf.png\"/></a><a href=\"http://vesg.ipsl.upmc.fr/thredds/fileServer/IPSLFS/fabric/climafCache/aba32/38716/013df/66316/ed6c3/4d7e7/0f765.png\" target=\"_blank\"><img class=\"myImage\" src=\"http://vesg.ipsl.upmc.fr/thredds/fileServer/IPSLFS/fabric/climafCache/aba32/38716/013df/66316/ed6c3/4d7e7/0f765.png\"/></a><a href=\"http://vesg.ipsl.upmc.fr/thredds/fileServer/IPSLFS/fabric/climafCache/17b6e/10c9b/550cb/ec26c/6a086/ada74/50bf7.png\" target=\"_blank\"><img class=\"myImage\" src=\"http://vesg.ipsl.upmc.fr/thredds/fileServer/IPSLFS/fabric/climafCache/17b6e/10c9b/550cb/ec26c/6a086/ada74/50bf7.png\"/></a><a href=\"http://vesg.ipsl.upmc.fr/thredds/fileServer/IPSLFS/fabric/climafCache/f5b28/a06d3/adab7/5b6fb/6c5dc/56704/28252.png\" target=\"_blank\"><img class=\"myImage\" src=\"http://vesg.ipsl.upmc.fr/thredds/fileServer/IPSLFS/fabric/climafCache/f5b28/a06d3/adab7/5b6fb/6c5dc/56704/28252.png\"/></a><a href=\"http://vesg.ipsl.upmc.fr/thredds/fileServer/IPSLFS/fabric/climafCache/d7e67/a907e/17c5e/1eed1/06345/0e7cc/82abb.png\" target=\"_blank\"><img class=\"myImage\" src=\"http://vesg.ipsl.upmc.fr/thredds/fileServer/IPSLFS/fabric/climafCache/d7e67/a907e/17c5e/1eed1/06345/0e7cc/82abb.png\"/></a><a href=\"http://vesg.ipsl.upmc.fr/thredds/fileServer/IPSLFS/fabric/climafCache/d68de/6111a/6affb/3b519/d3320/973dd/f59f7.png\" target=\"_blank\"><img class=\"myImage\" src=\"http://vesg.ipsl.upmc.fr/thredds/fileServer/IPSLFS/fabric/climafCache/d68de/6111a/6affb/3b519/d3320/973dd/f59f7.png\"/></a></div>"
      ],
      "text/plain": [
       "<IPython.core.display.HTML object>"
      ]
     },
     "metadata": {},
     "output_type": "display_data"
    }
   ],
   "source": [
    "a= df_select[['image']].values\n",
    "b = [item for sublist in a for item in sublist]\n",
    "\n",
    "display(HTML('<div style=\"display: block\">' + ''.join(b) + '</div>'))"
   ]
  },
  {
   "cell_type": "code",
   "execution_count": null,
   "metadata": {
    "collapsed": true
   },
   "outputs": [],
   "source": []
  }
 ],
 "metadata": {
  "kernelspec": {
   "display_name": "Python 2",
   "language": "python",
   "name": "python2"
  },
  "language_info": {
   "codemirror_mode": {
    "name": "ipython",
    "version": 2
   },
   "file_extension": ".py",
   "mimetype": "text/x-python",
   "name": "python",
   "nbconvert_exporter": "python",
   "pygments_lexer": "ipython2",
   "version": "2.7.11"
  }
 },
 "nbformat": 4,
 "nbformat_minor": 0
}
